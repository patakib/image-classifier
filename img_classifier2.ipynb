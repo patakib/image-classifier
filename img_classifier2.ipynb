{
  "nbformat": 4,
  "nbformat_minor": 0,
  "metadata": {
    "colab": {
      "name": "img-classifier2.ipynb",
      "provenance": [],
      "collapsed_sections": [],
      "authorship_tag": "ABX9TyMx012vOoYGKGcT4YduST10",
      "include_colab_link": true
    },
    "kernelspec": {
      "name": "python3",
      "display_name": "Python 3"
    }
  },
  "cells": [
    {
      "cell_type": "markdown",
      "metadata": {
        "id": "view-in-github",
        "colab_type": "text"
      },
      "source": [
        "<a href=\"https://colab.research.google.com/github/patakib/image-classifier/blob/master/img_classifier2.ipynb\" target=\"_parent\"><img src=\"https://colab.research.google.com/assets/colab-badge.svg\" alt=\"Open In Colab\"/></a>"
      ]
    },
    {
      "cell_type": "code",
      "metadata": {
        "id": "l96k1rX64jvT",
        "colab_type": "code",
        "colab": {}
      },
      "source": [
        "import tensorflow as tf\n",
        "import os"
      ],
      "execution_count": 35,
      "outputs": []
    },
    {
      "cell_type": "code",
      "metadata": {
        "id": "yuLBqryw_QWV",
        "colab_type": "code",
        "colab": {}
      },
      "source": [
        "from tensorflow import keras"
      ],
      "execution_count": 36,
      "outputs": []
    },
    {
      "cell_type": "code",
      "metadata": {
        "id": "89wnj9V94OJW",
        "colab_type": "code",
        "colab": {}
      },
      "source": [
        "model = keras.Sequential(keras.layers.Flatten(input_shape=[32,32,3]))\n",
        "for m in range(20):\n",
        "    model.add(keras.layers.Dense(100,\n",
        "                                 activation=\"elu\",\n",
        "                                 kernel_initializer=\"he_normal\"))"
      ],
      "execution_count": 37,
      "outputs": []
    },
    {
      "cell_type": "code",
      "metadata": {
        "id": "0N40a8ya4hSF",
        "colab_type": "code",
        "colab": {}
      },
      "source": [
        "model.add(keras.layers.Dense(10, activation=\"softmax\"))"
      ],
      "execution_count": 38,
      "outputs": []
    },
    {
      "cell_type": "code",
      "metadata": {
        "id": "rI2ZCmY_FTnK",
        "colab_type": "code",
        "colab": {}
      },
      "source": [
        "optimizer = keras.optimizers.Nadam(lr=5e-5)"
      ],
      "execution_count": 39,
      "outputs": []
    },
    {
      "cell_type": "code",
      "metadata": {
        "id": "TN3sls0xFf3C",
        "colab_type": "code",
        "colab": {}
      },
      "source": [
        "model.compile(loss=\"sparse_categorical_crossentropy\",\n",
        "              optimizer=optimizer,\n",
        "              metrics=[\"accuracy\"])"
      ],
      "execution_count": 40,
      "outputs": []
    },
    {
      "cell_type": "code",
      "metadata": {
        "id": "TzDmMosLF3fq",
        "colab_type": "code",
        "colab": {}
      },
      "source": [
        "(X_train_full, y_train_full), (X_test, y_test) = keras.datasets.cifar10.load_data()\n",
        "\n",
        "X_train = X_train_full[5000:]\n",
        "y_train = y_train_full[5000:]\n",
        "X_valid = X_train_full[:5000]\n",
        "y_valid = y_train_full[:5000]"
      ],
      "execution_count": 41,
      "outputs": []
    },
    {
      "cell_type": "code",
      "metadata": {
        "id": "0I7lY9MgGE9x",
        "colab_type": "code",
        "colab": {}
      },
      "source": [
        "early_stopping_cb = keras.callbacks.EarlyStopping(patience=20)\n",
        "model_checkpoint_cb = keras.callbacks.ModelCheckpoint(\"my_cifar10_model.h5\", save_best_only=True)"
      ],
      "execution_count": 42,
      "outputs": []
    },
    {
      "cell_type": "code",
      "metadata": {
        "id": "fuZHWbXBHBAK",
        "colab_type": "code",
        "colab": {
          "base_uri": "https://localhost:8080/",
          "height": 1000
        },
        "outputId": "8f96d48b-3741-411d-e5c8-f63909d5488b"
      },
      "source": [
        "model.fit(X_train, y_train, epochs=100,\n",
        "          validation_data=(X_valid, y_valid),\n",
        "          callbacks=callbacks)"
      ],
      "execution_count": 43,
      "outputs": [
        {
          "output_type": "stream",
          "text": [
            "Epoch 1/100\n",
            "   1/1407 [..............................] - ETA: 0s - loss: 311.7944 - accuracy: 0.0312WARNING:tensorflow:From /usr/local/lib/python3.6/dist-packages/tensorflow/python/ops/summary_ops_v2.py:1277: stop (from tensorflow.python.eager.profiler) is deprecated and will be removed after 2020-07-01.\n",
            "Instructions for updating:\n",
            "use `tf.profiler.experimental.stop` instead.\n",
            "   2/1407 [..............................] - ETA: 1:04 - loss: 270.0392 - accuracy: 0.0312WARNING:tensorflow:Callbacks method `on_train_batch_end` is slow compared to the batch time (batch time: 0.0237s vs `on_train_batch_end` time: 0.0711s). Check your callbacks.\n",
            "1407/1407 [==============================] - 17s 12ms/step - loss: 4.9789 - accuracy: 0.1590 - val_loss: 2.3828 - val_accuracy: 0.2010\n",
            "Epoch 2/100\n",
            "1407/1407 [==============================] - 16s 11ms/step - loss: 2.1322 - accuracy: 0.2302 - val_loss: 2.1887 - val_accuracy: 0.2064\n",
            "Epoch 3/100\n",
            "1407/1407 [==============================] - 16s 12ms/step - loss: 1.9947 - accuracy: 0.2716 - val_loss: 2.1486 - val_accuracy: 0.2234\n",
            "Epoch 4/100\n",
            "1407/1407 [==============================] - 16s 11ms/step - loss: 1.9062 - accuracy: 0.3066 - val_loss: 1.8850 - val_accuracy: 0.3130\n",
            "Epoch 5/100\n",
            "1407/1407 [==============================] - 17s 12ms/step - loss: 1.8492 - accuracy: 0.3295 - val_loss: 1.8588 - val_accuracy: 0.3222\n",
            "Epoch 6/100\n",
            "1407/1407 [==============================] - 16s 12ms/step - loss: 1.7992 - accuracy: 0.3470 - val_loss: 1.7754 - val_accuracy: 0.3580\n",
            "Epoch 7/100\n",
            "1407/1407 [==============================] - 16s 12ms/step - loss: 1.7527 - accuracy: 0.3650 - val_loss: 1.8140 - val_accuracy: 0.3428\n",
            "Epoch 8/100\n",
            "1407/1407 [==============================] - 16s 11ms/step - loss: 1.7192 - accuracy: 0.3793 - val_loss: 1.7997 - val_accuracy: 0.3586\n",
            "Epoch 9/100\n",
            "1407/1407 [==============================] - 16s 12ms/step - loss: 1.6864 - accuracy: 0.3912 - val_loss: 1.7141 - val_accuracy: 0.3834\n",
            "Epoch 10/100\n",
            "1407/1407 [==============================] - 16s 12ms/step - loss: 1.6554 - accuracy: 0.4065 - val_loss: 1.6866 - val_accuracy: 0.3862\n",
            "Epoch 11/100\n",
            "1407/1407 [==============================] - 16s 12ms/step - loss: 1.6319 - accuracy: 0.4135 - val_loss: 1.6848 - val_accuracy: 0.3928\n",
            "Epoch 12/100\n",
            "1407/1407 [==============================] - 16s 12ms/step - loss: 1.6107 - accuracy: 0.4189 - val_loss: 1.6451 - val_accuracy: 0.4122\n",
            "Epoch 13/100\n",
            "1407/1407 [==============================] - 16s 11ms/step - loss: 1.5900 - accuracy: 0.4265 - val_loss: 1.6489 - val_accuracy: 0.4050\n",
            "Epoch 14/100\n",
            "1407/1407 [==============================] - 15s 11ms/step - loss: 1.5715 - accuracy: 0.4330 - val_loss: 1.6294 - val_accuracy: 0.4152\n",
            "Epoch 15/100\n",
            "1407/1407 [==============================] - 16s 11ms/step - loss: 1.5555 - accuracy: 0.4401 - val_loss: 1.6355 - val_accuracy: 0.4142\n",
            "Epoch 16/100\n",
            "1407/1407 [==============================] - 16s 12ms/step - loss: 1.5349 - accuracy: 0.4495 - val_loss: 1.6003 - val_accuracy: 0.4288\n",
            "Epoch 17/100\n",
            "1407/1407 [==============================] - 16s 11ms/step - loss: 1.5235 - accuracy: 0.4528 - val_loss: 1.5799 - val_accuracy: 0.4410\n",
            "Epoch 18/100\n",
            "1407/1407 [==============================] - 15s 11ms/step - loss: 1.5105 - accuracy: 0.4584 - val_loss: 1.5960 - val_accuracy: 0.4338\n",
            "Epoch 19/100\n",
            "1407/1407 [==============================] - 16s 11ms/step - loss: 1.4953 - accuracy: 0.4621 - val_loss: 1.6692 - val_accuracy: 0.3974\n",
            "Epoch 20/100\n",
            "1407/1407 [==============================] - 16s 11ms/step - loss: 1.4813 - accuracy: 0.4662 - val_loss: 1.5606 - val_accuracy: 0.4530\n",
            "Epoch 21/100\n",
            "1407/1407 [==============================] - 16s 12ms/step - loss: 1.4722 - accuracy: 0.4698 - val_loss: 1.5584 - val_accuracy: 0.4402\n",
            "Epoch 22/100\n",
            "1407/1407 [==============================] - 16s 12ms/step - loss: 1.4617 - accuracy: 0.4744 - val_loss: 1.5448 - val_accuracy: 0.4550\n",
            "Epoch 23/100\n",
            "1407/1407 [==============================] - 16s 11ms/step - loss: 1.4494 - accuracy: 0.4800 - val_loss: 1.5904 - val_accuracy: 0.4428\n",
            "Epoch 24/100\n",
            "1407/1407 [==============================] - 16s 11ms/step - loss: 1.4410 - accuracy: 0.4826 - val_loss: 1.5832 - val_accuracy: 0.4418\n",
            "Epoch 25/100\n",
            "1407/1407 [==============================] - 16s 11ms/step - loss: 1.4294 - accuracy: 0.4862 - val_loss: 1.5841 - val_accuracy: 0.4446\n",
            "Epoch 26/100\n",
            "1407/1407 [==============================] - 15s 11ms/step - loss: 1.4195 - accuracy: 0.4931 - val_loss: 1.5663 - val_accuracy: 0.4368\n",
            "Epoch 27/100\n",
            "1407/1407 [==============================] - 16s 11ms/step - loss: 1.4125 - accuracy: 0.4936 - val_loss: 1.5553 - val_accuracy: 0.4474\n",
            "Epoch 28/100\n",
            "1407/1407 [==============================] - 15s 11ms/step - loss: 1.3992 - accuracy: 0.5014 - val_loss: 1.5315 - val_accuracy: 0.4646\n",
            "Epoch 29/100\n",
            "1407/1407 [==============================] - 15s 11ms/step - loss: 1.3907 - accuracy: 0.5004 - val_loss: 1.5392 - val_accuracy: 0.4570\n",
            "Epoch 30/100\n",
            "1407/1407 [==============================] - 15s 11ms/step - loss: 1.3812 - accuracy: 0.5060 - val_loss: 1.5365 - val_accuracy: 0.4568\n",
            "Epoch 31/100\n",
            "1407/1407 [==============================] - 15s 11ms/step - loss: 1.3714 - accuracy: 0.5069 - val_loss: 1.5604 - val_accuracy: 0.4496\n",
            "Epoch 32/100\n",
            "1407/1407 [==============================] - 16s 11ms/step - loss: 1.3621 - accuracy: 0.5117 - val_loss: 1.5274 - val_accuracy: 0.4620\n",
            "Epoch 33/100\n",
            "1407/1407 [==============================] - 15s 10ms/step - loss: 1.3552 - accuracy: 0.5157 - val_loss: 1.5423 - val_accuracy: 0.4608\n",
            "Epoch 34/100\n",
            "1407/1407 [==============================] - 15s 10ms/step - loss: 1.3447 - accuracy: 0.5190 - val_loss: 1.5742 - val_accuracy: 0.4486\n",
            "Epoch 35/100\n",
            "1407/1407 [==============================] - 15s 11ms/step - loss: 1.3400 - accuracy: 0.5209 - val_loss: 1.5640 - val_accuracy: 0.4504\n",
            "Epoch 36/100\n",
            "1407/1407 [==============================] - 15s 10ms/step - loss: 1.3307 - accuracy: 0.5243 - val_loss: 1.5576 - val_accuracy: 0.4506\n",
            "Epoch 37/100\n",
            "1407/1407 [==============================] - 15s 10ms/step - loss: 1.3209 - accuracy: 0.5255 - val_loss: 1.6127 - val_accuracy: 0.4426\n",
            "Epoch 38/100\n",
            "1407/1407 [==============================] - 15s 10ms/step - loss: 1.3146 - accuracy: 0.5284 - val_loss: 1.5633 - val_accuracy: 0.4584\n",
            "Epoch 39/100\n",
            "1407/1407 [==============================] - 15s 11ms/step - loss: 1.3096 - accuracy: 0.5310 - val_loss: 1.5514 - val_accuracy: 0.4580\n",
            "Epoch 40/100\n",
            "1407/1407 [==============================] - 15s 11ms/step - loss: 1.2975 - accuracy: 0.5336 - val_loss: 1.5342 - val_accuracy: 0.4622\n",
            "Epoch 41/100\n",
            "1407/1407 [==============================] - 15s 11ms/step - loss: 1.2923 - accuracy: 0.5360 - val_loss: 1.5495 - val_accuracy: 0.4594\n",
            "Epoch 42/100\n",
            "1407/1407 [==============================] - 15s 10ms/step - loss: 1.2840 - accuracy: 0.5405 - val_loss: 1.5272 - val_accuracy: 0.4642\n",
            "Epoch 43/100\n",
            "1407/1407 [==============================] - 15s 11ms/step - loss: 1.2743 - accuracy: 0.5454 - val_loss: 1.5449 - val_accuracy: 0.4588\n",
            "Epoch 44/100\n",
            "1407/1407 [==============================] - 16s 11ms/step - loss: 1.2711 - accuracy: 0.5438 - val_loss: 1.5673 - val_accuracy: 0.4608\n",
            "Epoch 45/100\n",
            "1407/1407 [==============================] - 16s 11ms/step - loss: 1.2635 - accuracy: 0.5487 - val_loss: 1.5633 - val_accuracy: 0.4546\n",
            "Epoch 46/100\n",
            "1407/1407 [==============================] - 15s 11ms/step - loss: 1.2559 - accuracy: 0.5496 - val_loss: 1.5649 - val_accuracy: 0.4592\n",
            "Epoch 47/100\n",
            "1407/1407 [==============================] - 15s 11ms/step - loss: 1.2445 - accuracy: 0.5534 - val_loss: 1.5975 - val_accuracy: 0.4550\n",
            "Epoch 48/100\n",
            "1407/1407 [==============================] - 15s 11ms/step - loss: 1.2379 - accuracy: 0.5566 - val_loss: 1.5736 - val_accuracy: 0.4532\n",
            "Epoch 49/100\n",
            "1407/1407 [==============================] - 15s 11ms/step - loss: 1.2318 - accuracy: 0.5601 - val_loss: 1.5880 - val_accuracy: 0.4594\n",
            "Epoch 50/100\n",
            "1407/1407 [==============================] - 15s 11ms/step - loss: 1.2245 - accuracy: 0.5602 - val_loss: 1.5797 - val_accuracy: 0.4574\n",
            "Epoch 51/100\n",
            "1407/1407 [==============================] - 15s 11ms/step - loss: 1.2168 - accuracy: 0.5645 - val_loss: 1.5883 - val_accuracy: 0.4556\n",
            "Epoch 52/100\n",
            "1407/1407 [==============================] - 16s 11ms/step - loss: 1.2113 - accuracy: 0.5665 - val_loss: 1.5731 - val_accuracy: 0.4640\n",
            "Epoch 53/100\n",
            "1407/1407 [==============================] - 15s 11ms/step - loss: 1.2057 - accuracy: 0.5677 - val_loss: 1.6169 - val_accuracy: 0.4502\n",
            "Epoch 54/100\n",
            "1407/1407 [==============================] - 16s 11ms/step - loss: 1.1963 - accuracy: 0.5706 - val_loss: 1.5965 - val_accuracy: 0.4650\n",
            "Epoch 55/100\n",
            "1407/1407 [==============================] - 16s 11ms/step - loss: 1.1901 - accuracy: 0.5744 - val_loss: 1.5845 - val_accuracy: 0.4640\n",
            "Epoch 56/100\n",
            "1407/1407 [==============================] - 16s 11ms/step - loss: 1.1842 - accuracy: 0.5763 - val_loss: 1.6123 - val_accuracy: 0.4658\n",
            "Epoch 57/100\n",
            "1407/1407 [==============================] - 16s 11ms/step - loss: 1.1826 - accuracy: 0.5770 - val_loss: 1.6057 - val_accuracy: 0.4644\n",
            "Epoch 58/100\n",
            "1407/1407 [==============================] - 16s 11ms/step - loss: 1.1719 - accuracy: 0.5787 - val_loss: 1.6091 - val_accuracy: 0.4576\n",
            "Epoch 59/100\n",
            "1407/1407 [==============================] - 16s 11ms/step - loss: 1.1658 - accuracy: 0.5831 - val_loss: 1.6404 - val_accuracy: 0.4518\n",
            "Epoch 60/100\n",
            "1407/1407 [==============================] - 16s 11ms/step - loss: 1.1584 - accuracy: 0.5867 - val_loss: 1.6245 - val_accuracy: 0.4630\n",
            "Epoch 61/100\n",
            "1407/1407 [==============================] - 16s 11ms/step - loss: 1.1517 - accuracy: 0.5880 - val_loss: 1.6196 - val_accuracy: 0.4626\n",
            "Epoch 62/100\n",
            "1407/1407 [==============================] - 16s 11ms/step - loss: 1.1443 - accuracy: 0.5903 - val_loss: 1.6740 - val_accuracy: 0.4482\n"
          ],
          "name": "stdout"
        },
        {
          "output_type": "execute_result",
          "data": {
            "text/plain": [
              "<tensorflow.python.keras.callbacks.History at 0x7fa36c0916d8>"
            ]
          },
          "metadata": {
            "tags": []
          },
          "execution_count": 43
        }
      ]
    },
    {
      "cell_type": "code",
      "metadata": {
        "id": "Jw2N8AeMHGZh",
        "colab_type": "code",
        "colab": {
          "base_uri": "https://localhost:8080/",
          "height": 51
        },
        "outputId": "b379bc0b-1e27-44a3-8aae-e890cce78fab"
      },
      "source": [
        "model = keras.models.load_model(\"my_cifar10_model.h5\")\n",
        "model.evaluate(X_valid, y_valid)"
      ],
      "execution_count": 44,
      "outputs": [
        {
          "output_type": "stream",
          "text": [
            "157/157 [==============================] - 0s 2ms/step - loss: 1.5272 - accuracy: 0.0942\n"
          ],
          "name": "stdout"
        },
        {
          "output_type": "execute_result",
          "data": {
            "text/plain": [
              "[1.5272021293640137, 0.094200000166893]"
            ]
          },
          "metadata": {
            "tags": []
          },
          "execution_count": 44
        }
      ]
    }
  ]
}